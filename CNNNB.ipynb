{
 "cells": [
  {
   "cell_type": "markdown",
   "metadata": {},
   "source": [
    "#### 环境测试"
   ]
  },
  {
   "cell_type": "code",
   "execution_count": 61,
   "metadata": {
    "slideshow": {
     "slide_type": "subslide"
    }
   },
   "outputs": [],
   "source": [
    "import torch\n",
    "import torchvision\n",
    "import numpy as np"
   ]
  },
  {
   "cell_type": "code",
   "execution_count": 62,
   "metadata": {
    "slideshow": {
     "slide_type": "subslide"
    }
   },
   "outputs": [],
   "source": [
    "x = torch.Tensor(1)"
   ]
  },
  {
   "cell_type": "code",
   "execution_count": 63,
   "metadata": {
    "slideshow": {
     "slide_type": "subslide"
    }
   },
   "outputs": [
    {
     "name": "stdout",
     "output_type": "stream",
     "text": [
      "tensor([0.])\n"
     ]
    }
   ],
   "source": [
    "print(x)"
   ]
  },
  {
   "cell_type": "code",
   "execution_count": 64,
   "metadata": {
    "slideshow": {
     "slide_type": "subslide"
    }
   },
   "outputs": [
    {
     "name": "stdout",
     "output_type": "stream",
     "text": [
      "GPU可用\n"
     ]
    }
   ],
   "source": [
    "if torch.cuda.is_available():\n",
    "    print(\"GPU可用\")"
   ]
  },
  {
   "cell_type": "markdown",
   "metadata": {
    "slideshow": {
     "slide_type": "subslide"
    }
   },
   "source": [
    "## 载入数据\n",
    "- 先载入二进制数据\n",
    "- 再对数据进行转换"
   ]
  },
  {
   "cell_type": "code",
   "execution_count": 65,
   "metadata": {
    "slideshow": {
     "slide_type": "subslide"
    }
   },
   "outputs": [],
   "source": [
    "def load_mnist(path, data_name,label_name):\n",
    "    \"\"\"\n",
    "        加载数据（二进制）\n",
    "        path:文件目录\n",
    "        data_name:数据文件名\n",
    "        label_name:标签文件名\n",
    "    \"\"\"\n",
    "    import os\n",
    "    import gzip\n",
    "    labels_path = os.path.join(path,label_name)\n",
    "    images_path = os.path.join(path,data_name)\n",
    "    with gzip.open(labels_path, 'rb') as lbpath:\n",
    "        labels = np.frombuffer(lbpath.read(), dtype=np.uint8,\n",
    "                            offset=8)\n",
    "    with gzip.open(images_path, 'rb') as imgpath:\n",
    "        images = np.frombuffer(imgpath.read(), dtype=np.uint8,\n",
    "                            offset=16).reshape(len(labels),28,28) #进行了维度修正,转为张量\n",
    "    return (images, labels)"
   ]
  },
  {
   "cell_type": "code",
   "execution_count": 66,
   "metadata": {
    "slideshow": {
     "slide_type": "subslide"
    }
   },
   "outputs": [
    {
     "name": "stdout",
     "output_type": "stream",
     "text": [
      "(60000, 28, 28) (60000,)\n",
      "<class 'numpy.ndarray'>\n",
      "(10000, 28, 28) (10000,)\n"
     ]
    }
   ],
   "source": [
    "path = '/home/ysq/桌面/FashionMnistdata'\n",
    "images,labels = load_mnist(path,\"train-images-idx3-ubyte.gz\",\"train-labels-idx1-ubyte.gz\")\n",
    "print(images.shape,labels.shape)\n",
    "print(type(images))\n",
    "\n",
    "test_img,test_label = load_mnist(path,\"t10k-images-idx3-ubyte.gz\",\"t10k-labels-idx1-ubyte.gz\")\n",
    "print(test_img.shape,test_label.shape)"
   ]
  },
  {
   "cell_type": "markdown",
   "metadata": {
    "slideshow": {
     "slide_type": "subslide"
    }
   },
   "source": [
    "### 上面加载的数据是二进制源码类型，需要进行转换"
   ]
  },
  {
   "cell_type": "code",
   "execution_count": 67,
   "metadata": {
    "slideshow": {
     "slide_type": "subslide"
    }
   },
   "outputs": [],
   "source": [
    "import torch.utils.data as Data #An abstract class representing a Dataset"
   ]
  },
  {
   "cell_type": "code",
   "execution_count": 68,
   "metadata": {
    "slideshow": {
     "slide_type": "subslide"
    }
   },
   "outputs": [],
   "source": [
    "class DealDataset(Data.Dataset):\n",
    "    \"\"\"\n",
    "        初始化数据\n",
    "    \"\"\"\n",
    "    def __init__(self,path,data_name,label_name):\n",
    "        \"\"\"\n",
    "            path:数据路径\n",
    "            data_name:数据文件名\n",
    "            label_name:数据标签名\n",
    "            transforms: torchvision.transforms\n",
    "        \"\"\"\n",
    "        (train_set,train_labels) = load_mnist(path,data_name,label_name)\n",
    "        \n",
    "        #将numpy.ndarray转为torch.tensor\n",
    "        \n",
    "        self.train_set = torch.from_numpy(train_set)\n",
    "        \n",
    "        \n",
    "        self.train_labels = torch.from_numpy(train_labels)\n",
    "        \n",
    "    \n",
    "    def __getitem__(self, index):\n",
    "        img,target = self.train_set[index], int(self.train_labels[index])\n",
    "        return img,target\n",
    "\n",
    "    def __len__(self):\n",
    "        \"\"\"\n",
    "            返回数据集长度\n",
    "        \"\"\"\n",
    "        return len(self.train_set)"
   ]
  },
  {
   "cell_type": "markdown",
   "metadata": {
    "slideshow": {
     "slide_type": "subslide"
    }
   },
   "source": [
    "- 初始化数据"
   ]
  },
  {
   "cell_type": "code",
   "execution_count": 69,
   "metadata": {
    "slideshow": {
     "slide_type": "subslide"
    }
   },
   "outputs": [],
   "source": [
    "trainDataset = DealDataset(path=path,data_name=\"train-images-idx3-ubyte.gz\",label_name=\"train-labels-idx1-ubyte.gz\")\n",
    "testDataset = DealDataset(path=path,data_name=\"t10k-images-idx3-ubyte.gz\",label_name=\"t10k-labels-idx1-ubyte.gz\")"
   ]
  },
  {
   "cell_type": "markdown",
   "metadata": {
    "slideshow": {
     "slide_type": "subslide"
    }
   },
   "source": [
    "#### 尝试显示数据集中的一些图片"
   ]
  },
  {
   "cell_type": "code",
   "execution_count": 70,
   "metadata": {
    "slideshow": {
     "slide_type": "subslide"
    }
   },
   "outputs": [
    {
     "name": "stdout",
     "output_type": "stream",
     "text": [
      "tensor(9, dtype=torch.uint8)\n"
     ]
    },
    {
     "data": {
      "text/plain": [
       "<matplotlib.image.AxesImage at 0x7fee93c0c0b8>"
      ]
     },
     "execution_count": 70,
     "metadata": {},
     "output_type": "execute_result"
    },
    {
     "data": {
      "image/png": "[encoded data removed]",
      "text/plain": [
       "<Figure size 432x288 with 1 Axes>"
      ]
     },
     "metadata": {
      "needs_background": "light"
     },
     "output_type": "display_data"
    }
   ],
   "source": [
    "import matplotlib.pyplot as plt\n",
    "%matplotlib inline\n",
    "eg_image = trainDataset.train_set[0]\n",
    "eg_label = trainDataset.train_labels[0]\n",
    "print(eg_label)\n",
    "plt.imshow(eg_image,cmap='gray')"
   ]
  },
  {
   "cell_type": "markdown",
   "metadata": {
    "slideshow": {
     "slide_type": "subslide"
    }
   },
   "source": [
    "### 装载数据"
   ]
  },
  {
   "cell_type": "code",
   "execution_count": 88,
   "metadata": {
    "slideshow": {
     "slide_type": "subslide"
    }
   },
   "outputs": [],
   "source": [
    "#调用torch.utils.data.dataloader装载训练数据和测试数据\n",
    "train_loader = Data.DataLoader(\n",
    "    dataset=trainDataset,\n",
    "    batch_size=100,#批次\n",
    "    shuffle=False,\n",
    ")\n",
    "test_loader = Data.DataLoader(\n",
    "    dataset=testDataset,\n",
    "    batch_size=100,\n",
    "    shuffle=False,\n",
    ")\n",
    "\n",
    "#for images, labels in train_loader:\n",
    "    #print((images))\n",
    "    #print(labels)"
   ]
  },
  {
   "cell_type": "markdown",
   "metadata": {
    "slideshow": {
     "slide_type": "subslide"
    }
   },
   "source": [
    "### 建立输出类别映射\n",
    "- 方便查看"
   ]
  },
  {
   "cell_type": "code",
   "execution_count": 89,
   "metadata": {
    "slideshow": {
     "slide_type": "subslide"
    }
   },
   "outputs": [],
   "source": [
    "def output_label(label):\n",
    "    output_mapping = {\n",
    "        0 : \"T-shirt/Top\",\n",
    "            1 : \"Trouser\",\n",
    "            2 : \"Pullover\",\n",
    "            3 : \"Dress\",\n",
    "            4 : \"Coat\",\n",
    "            5 : \"Sandal\",\n",
    "            6 : \"Shirt\",\n",
    "            7 : \"Sneaker\",\n",
    "            8 : \"Bag\",\n",
    "            9 : \"Ankle Boot\"\n",
    "    }\n",
    "    input = label\n",
    "    return output_mapping[input]"
   ]
  },
  {
   "cell_type": "markdown",
   "metadata": {
    "slideshow": {
     "slide_type": "subslide"
    }
   },
   "source": [
    "## 建立CNN\n",
    "#### 网络由以下层组成：\n",
    "- 两个 `Sequential Layers`，每个Sequential Layers 包含以下层：\n",
    "    - 卷积层 `Convolution layer`\n",
    "        - 卷积核为`3*3`,第一个Sequential Layer的`zero-padding = 1`,\n",
    "        - 第二个Sequential Layer的`zero-padding=0`,步长都为1\n",
    "    - `Batch Normalization layer`（批量归一化层）\n",
    "    - 激活函数 ReLU\n",
    "    - （最大）池化层 `Max Pooling layer`\n",
    "         - kernel大小为`2*2`,步长为`2`\n",
    "    - 全联接层\n",
    "    - `Dropout layer` 防止过拟合\n",
    "\n",
    "- 训练数据（图片）通过该网络时的变化过程如下：\n",
    "-  数据卷积后尺寸的计算公式\n",
    "\\begin{equation}\n",
    "Output_{size} = (Input_{size}+ZeroPadding\\times2-FilterSize_{Convolution})\\div Stride+1\n",
    "\\end{equation}\n",
    "\\begin{equation}\n",
    "输出数据尺寸 = (输入数据尺寸+补偿\\times2-卷积核尺寸)\\div 步长+1\n",
    "\\end{equation}\n",
    "    - 第一个卷积层处\n",
    "        - 输入：`28*28*1` 输出：`28*28*32` 需要32个`filter`\n",
    "    - 第一个池化层处\n",
    "        - 输入：`28*28*32` 输出：`14*14*32` \n",
    "    - 第二个卷积层处\n",
    "        - 输入：`14*14*32` 输出：`12*12*64` 需要64个`filter`\n",
    "    - 第二个池化层处\n",
    "        - 输入：`12*12*64` 输出：`6*6*64` \n",
    "    - 全联接层处\n",
    "        - 输入：`6*6*64`  输出：`10*1`，表征10类服装\n",
    "        "
   ]
  },
  {
   "cell_type": "code",
   "execution_count": 73,
   "metadata": {
    "slideshow": {
     "slide_type": "subslide"
    }
   },
   "outputs": [],
   "source": [
    "import torch.nn as nn\n",
    "\n",
    "class FashionCNN(nn.Module):\n",
    "    \"\"\"\n",
    "        继承nn.Module，nn.Module是一个building blocks\n",
    "    \"\"\"\n",
    "    def __init__(self):\n",
    "        \"\"\"\n",
    "            初始化FashionCNN类,重载nn.Module的初始化方法 \n",
    "        \"\"\"\n",
    "        super(FashionCNN,self).__init__()\n",
    "        \n",
    "        #first sequential layer\n",
    "        self.layer1 = nn.Sequential(\n",
    "            nn.Conv2d(in_channels=1,out_channels=32,kernel_size=3,padding=1),\n",
    "            nn.BatchNorm2d(32),#设置的参数就是卷积的输出通道数\n",
    "            nn.ReLU(),#激活函数选择修正线性单元\n",
    "            nn.MaxPool2d(kernel_size=2,stride=2)#最大池化层，步长2,kernelsize=2\n",
    "        )\n",
    "        \n",
    "        #second sequential layer\n",
    "        self.layer2 = nn.Sequential(\n",
    "            nn.Conv2d(in_channels=32,out_channels=64,kernel_size=3,padding=0),\n",
    "            nn.BatchNorm2d(64),\n",
    "            nn.ReLU(),\n",
    "            nn.MaxPool2d(2)\n",
    "        )\n",
    "        #全联接层\n",
    "        self.fc1 = nn.Linear(in_features=64*6*6,out_features=1000)\n",
    "        self.drop = nn.Dropout2d(0.25)\n",
    "        self.fc2 = nn.Linear(in_features=1000,out_features=100)\n",
    "        self.fc3 = nn.Linear(in_features=100,out_features=10)\n",
    "    def forward(self,x):\n",
    "        \"\"\"\n",
    "            前向传播\n",
    "            嵌套书写，代表了神经网络前向运行的过程\n",
    "        \"\"\"\n",
    "        foo = self.layer1(x)\n",
    "        foo = self.layer2(foo)\n",
    "        foo = foo.view(foo.size(0),-1)#拉成一维向量,准备全连接\n",
    "        foo = self.fc1(foo)\n",
    "        foo = self.drop(foo)\n",
    "        foo = self.fc2(foo)\n",
    "        foo = self.fc3(foo)\n",
    "        \n",
    "        return foo"
   ]
  },
  {
   "cell_type": "markdown",
   "metadata": {
    "slideshow": {
     "slide_type": "skip"
    }
   },
   "source": [
    "### 建立一个神经网络实例"
   ]
  },
  {
   "cell_type": "code",
   "execution_count": 74,
   "metadata": {},
   "outputs": [
    {
     "name": "stdout",
     "output_type": "stream",
     "text": [
      "程序将会运行在 cuda:0 上\n",
      "FashionCNN(\n",
      "  (layer1): Sequential(\n",
      "    (0): Conv2d(1, 32, kernel_size=(3, 3), stride=(1, 1), padding=(1, 1))\n",
      "    (1): BatchNorm2d(32, eps=1e-05, momentum=0.1, affine=True, track_running_stats=True)\n",
      "    (2): ReLU()\n",
      "    (3): MaxPool2d(kernel_size=2, stride=2, padding=0, dilation=1, ceil_mode=False)\n",
      "  )\n",
      "  (layer2): Sequential(\n",
      "    (0): Conv2d(32, 64, kernel_size=(3, 3), stride=(1, 1))\n",
      "    (1): BatchNorm2d(64, eps=1e-05, momentum=0.1, affine=True, track_running_stats=True)\n",
      "    (2): ReLU()\n",
      "    (3): MaxPool2d(kernel_size=2, stride=2, padding=0, dilation=1, ceil_mode=False)\n",
      "  )\n",
      "  (fc1): Linear(in_features=2304, out_features=1000, bias=True)\n",
      "  (drop): Dropout2d(p=0.25)\n",
      "  (fc2): Linear(in_features=1000, out_features=100, bias=True)\n",
      "  (fc3): Linear(in_features=100, out_features=10, bias=True)\n",
      ")\n"
     ]
    }
   ],
   "source": [
    "model = FashionCNN()\n",
    "\n",
    "#选择在显卡上运行（如果有的话）\n",
    "device = torch.device(\"cuda:0\" if torch.cuda.is_available() else \"cpu\")\n",
    "print(\"程序将会运行在\",device,\"上\")\n",
    "\n",
    "#将网络送至GPU运算\n",
    "model.to(device)\n",
    "\n",
    "#LOSS函数选择交叉熵函数\n",
    "error = nn.CrossEntropyLoss()\n",
    "\n",
    "#学习率设为0.001\n",
    "learning_rate = 0.001\n",
    "#优化器选择Adam\n",
    "optimizer = torch.optim.Adam(model.parameters(),lr=learning_rate)\n",
    "print(model)"
   ]
  },
  {
   "cell_type": "markdown",
   "metadata": {},
   "source": [
    "### 训练网络"
   ]
  },
  {
   "cell_type": "code",
   "execution_count": 75,
   "metadata": {},
   "outputs": [
    {
     "name": "stdout",
     "output_type": "stream",
     "text": [
      "Iteration: 500, Loss: 0.4293985664844513, Accuracy: 87%\n",
      "Iteration: 1000, Loss: 0.3726092278957367, Accuracy: 88%\n",
      "Iteration: 1500, Loss: 0.2617042660713196, Accuracy: 88%\n",
      "Iteration: 2000, Loss: 0.20603130757808685, Accuracy: 89%\n",
      "Iteration: 2500, Loss: 0.1632489413022995, Accuracy: 90%\n",
      "Iteration: 3000, Loss: 0.14189253747463226, Accuracy: 90%\n"
     ]
    }
   ],
   "source": [
    "from torch.autograd import Variable\n",
    "\n",
    "num_epochs = 5 #训练轮数\n",
    "count = 0\n",
    "\n",
    "#使用以下列表来可视化loss和准确度\n",
    "loss_list = []\n",
    "iteration_list = []\n",
    "accuracy_list = []\n",
    "\n",
    "\n",
    "#使用以下列表来可视化每个类的准确度\n",
    "predictions_list = []\n",
    "labels_list = []\n",
    "\n",
    "for epoch in range(num_epochs):\n",
    "    for images,labels in train_loader:\n",
    "        #将图片数据和标签数据送至GPU\n",
    "        #注意：需要进行数据类型转换，不然会报错\n",
    "        images = images.type(torch.FloatTensor)\n",
    "        images,labels = images.to(device),labels.to(device)\n",
    "        \n",
    "        train = Variable(images.view(100,1,28,28))\n",
    "        labels = Variable(labels)\n",
    "        \n",
    "        #前向传播\n",
    "        outputs = model(train)\n",
    "        loss = error(outputs,labels)#计算损失函数\n",
    "        \n",
    "        #初始化一个梯度为0\n",
    "        optimizer.zero_grad()\n",
    "        \n",
    "        #误差反向传播\n",
    "        loss.backward()\n",
    "        \n",
    "        #优化调参\n",
    "        optimizer.step()\n",
    "        \n",
    "        count+=1\n",
    "    \n",
    "    #进行测试\n",
    "        if count%50 == 0: #50步测试一个\n",
    "            total = 0\n",
    "            correct = 0\n",
    "            \n",
    "            for images, labels in test_loader:\n",
    "                images = images.type(torch.FloatTensor)\n",
    "                images, labels = images.to(device), labels.to(device)\n",
    "                labels_list.append(labels)\n",
    "            \n",
    "                test = Variable(images.view(100, 1, 28, 28))\n",
    "            \n",
    "                outputs = model(test)\n",
    "                \n",
    "                #选择概率最大的输出\n",
    "                predictions = torch.max(outputs, 1)[1].to(device)\n",
    "                predictions_list.append(predictions)\n",
    "                correct += (predictions == labels).sum()\n",
    "            \n",
    "                total += len(labels)\n",
    "            \n",
    "            accuracy = correct * 100 / total\n",
    "            loss_list.append(loss.data)\n",
    "            iteration_list.append(count)\n",
    "            accuracy_list.append(accuracy)\n",
    "            \n",
    "        if count%500 == 0:\n",
    "            print(\"Iteration: {}, Loss: {}, Accuracy: {}%\".format(count, loss.data, accuracy))\n"
   ]
  },
  {
   "cell_type": "markdown",
   "metadata": {},
   "source": [
    "### 可视化损失与正确率(全局)"
   ]
  },
  {
   "cell_type": "code",
   "execution_count": 79,
   "metadata": {},
   "outputs": [
    {
     "data": {
      "image/png": "[encoded data removed]",
      "text/plain": [
       "<Figure size 432x288 with 1 Axes>"
      ]
     },
     "metadata": {
      "needs_background": "light"
     },
     "output_type": "display_data"
    }
   ],
   "source": [
    "plt.plot(iteration_list, loss_list)\n",
    "plt.xlabel(\"No. of Iteration\")\n",
    "plt.ylabel(\"Loss\")\n",
    "plt.title(\"Itevarsations vs Loss\")\n",
    "plt.show()"
   ]
  },
  {
   "cell_type": "code",
   "execution_count": 80,
   "metadata": {},
   "outputs": [
    {
     "data": {
      "image/png": "[encoded data removed]",
      "text/plain": [
       "<Figure size 432x288 with 1 Axes>"
      ]
     },
     "metadata": {
      "needs_background": "light"
     },
     "output_type": "display_data"
    }
   ],
   "source": [
    "plt.plot(iteration_list, accuracy_list)\n",
    "plt.xlabel(\"No. of Iteration\")\n",
    "plt.ylabel(\"Accuracy\")\n",
    "plt.title(\"Iterations vs Accuracy\")\n",
    "plt.show()"
   ]
  },
  {
   "cell_type": "markdown",
   "metadata": {},
   "source": [
    "### 查看每类的正确率"
   ]
  },
  {
   "cell_type": "code",
   "execution_count": 91,
   "metadata": {},
   "outputs": [
    {
     "name": "stdout",
     "output_type": "stream",
     "text": [
      "Accuracy of T-shirt/Top: 91.70%\n",
      "Accuracy of Trouser: 98.50%\n",
      "Accuracy of Pullover: 84.60%\n",
      "Accuracy of Dress: 91.20%\n",
      "Accuracy of Coat: 81.80%\n",
      "Accuracy of Sandal: 95.60%\n",
      "Accuracy of Shirt: 68.90%\n",
      "Accuracy of Sneaker: 98.00%\n",
      "Accuracy of Bag: 99.00%\n",
      "Accuracy of Ankle Boot: 96.00%\n"
     ]
    }
   ],
   "source": [
    "class_correct = [0 for _ in range(10)]\n",
    "total_correct = [0 for _ in range(10)]\n",
    "\n",
    "with torch.no_grad():\n",
    "    \"\"\"\n",
    "        Disabling gradient calculation,禁用梯度运算，减小显存占用\n",
    "    \"\"\"\n",
    "    for images,labels in test_loader:\n",
    "        #修改images的数据类型，否则会报错\n",
    "        images = images.type(torch.FloatTensor)\n",
    "        images,labels = images.to(device),labels.to(device)\n",
    "        test = Variable(images)\n",
    "        outputs = model(test.view(100, 1, 28, 28))\n",
    "        predicted = torch.max(outputs,1)[1]\n",
    "        c = c = (predicted == labels).squeeze()\n",
    "        \n",
    "        for i in range(100):\n",
    "            label = labels[i]\n",
    "            class_correct[label] += c[i].item()\n",
    "            total_correct[label] += 1\n",
    "for i in range(10):\n",
    "    print(\"Accuracy of {}: {:.2f}%\".format(output_label(i), class_correct[i] * 100 / total_correct[i]))"
   ]
  }
 ],
 "metadata": {
  "kernelspec": {
   "display_name": "Python 3",
   "language": "python",
   "name": "python3"
  },
  "language_info": {
   "codemirror_mode": {
    "name": "ipython",
    "version": 3
   },
   "file_extension": ".py",
   "mimetype": "text/x-python",
   "name": "python",
   "nbconvert_exporter": "python",
   "pygments_lexer": "ipython3",
   "version": "3.7.0"
  }
 },
 "nbformat": 4,
 "nbformat_minor": 2
}
